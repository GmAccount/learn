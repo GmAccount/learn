{
 "cells": [
  {
   "cell_type": "markdown",
   "metadata": {},
   "source": [
    "# test numpy"
   ]
  },
  {
   "cell_type": "code",
   "execution_count": 2,
   "metadata": {},
   "outputs": [],
   "source": [
    "import numpy as np\n",
    "\n",
    "a1 = np.array([1,2,3])\n"
   ]
  },
  {
   "cell_type": "code",
   "execution_count": 4,
   "metadata": {},
   "outputs": [
    {
     "name": "stdout",
     "output_type": "stream",
     "text": [
      "[1 2 3] <class 'numpy.ndarray'>\n"
     ]
    }
   ],
   "source": [
    "print (a1,type(a1))"
   ]
  },
  {
   "cell_type": "markdown",
   "metadata": {},
   "source": []
  },
  {
   "cell_type": "code",
   "execution_count": 9,
   "metadata": {},
   "outputs": [
    {
     "name": "stdout",
     "output_type": "stream",
     "text": [
      "[[0. 0. 0.]\n",
      " [0. 0. 0.]]\n"
     ]
    }
   ],
   "source": [
    "a2 = np.zeros((2,3))\n",
    "print(a2)"
   ]
  },
  {
   "cell_type": "code",
   "execution_count": 15,
   "metadata": {},
   "outputs": [
    {
     "name": "stdout",
     "output_type": "stream",
     "text": [
      "[[[1. 1. 1. 1.]\n",
      "  [1. 1. 1. 1.]\n",
      "  [1. 1. 1. 1.]]\n",
      "\n",
      " [[1. 1. 1. 1.]\n",
      "  [1. 1. 1. 1.]\n",
      "  [1. 1. 1. 1.]]]\n",
      "3\n"
     ]
    }
   ],
   "source": [
    "a2 = np.ones((2,3,4))\n",
    "print(a2)\n",
    "print(a2.ndim)"
   ]
  },
  {
   "cell_type": "code",
   "execution_count": 14,
   "metadata": {},
   "outputs": [
    {
     "data": {
      "text/plain": [
       "array([0., 0., 0., 0., 0.])"
      ]
     },
     "execution_count": 14,
     "metadata": {},
     "output_type": "execute_result"
    }
   ],
   "source": [
    "np.empty(5)"
   ]
  },
  {
   "cell_type": "code",
   "execution_count": 20,
   "metadata": {},
   "outputs": [
    {
     "name": "stdout",
     "output_type": "stream",
     "text": [
      "[ 1.          1.81818182  2.63636364  3.45454545  4.27272727  5.09090909\n",
      "  5.90909091  6.72727273  7.54545455  8.36363636  9.18181818 10.        ]\n"
     ]
    }
   ],
   "source": [
    "a3 = np.linspace(1,10,12)\n",
    "print(a3)"
   ]
  },
  {
   "cell_type": "code",
   "execution_count": 22,
   "metadata": {},
   "outputs": [
    {
     "name": "stdout",
     "output_type": "stream",
     "text": [
      "[[1 2 3]\n",
      " [4 5 6]]\n"
     ]
    }
   ],
   "source": [
    "arr2dim = np.array([[1,2,3],[4,5,6]])\n",
    "print(arr2dim)"
   ]
  },
  {
   "cell_type": "code",
   "execution_count": 26,
   "metadata": {},
   "outputs": [
    {
     "name": "stdout",
     "output_type": "stream",
     "text": [
      "2 (2, 3) 6 int64\n"
     ]
    }
   ],
   "source": [
    "print (arr2dim.ndim, arr2dim.shape, arr2dim.size, arr2dim.dtype)"
   ]
  },
  {
   "cell_type": "code",
   "execution_count": 33,
   "metadata": {},
   "outputs": [
    {
     "name": "stdout",
     "output_type": "stream",
     "text": [
      "[[ 0  1  2  3  4  5  6  7  8  9]\n",
      " [10 11 12 13 14 15 16 17 18 19]\n",
      " [20 21 22 23 24 25 26 27 28 29]]\n",
      "[[ 0 10 20]\n",
      " [ 1 11 21]\n",
      " [ 2 12 22]\n",
      " [ 3 13 23]\n",
      " [ 4 14 24]\n",
      " [ 5 15 25]\n",
      " [ 6 16 26]\n",
      " [ 7 17 27]\n",
      " [ 8 18 28]\n",
      " [ 9 19 29]]\n"
     ]
    }
   ],
   "source": [
    "b = np.arange(30).reshape(3,10)\n",
    "print (b)\n",
    "print(b.T)"
   ]
  },
  {
   "cell_type": "code",
   "execution_count": 32,
   "metadata": {},
   "outputs": [
    {
     "name": "stdout",
     "output_type": "stream",
     "text": [
      "[[[ 0  1]\n",
      "  [ 2  3]\n",
      "  [ 4  5]\n",
      "  [ 6  7]\n",
      "  [ 8  9]]\n",
      "\n",
      " [[10 11]\n",
      "  [12 13]\n",
      "  [14 15]\n",
      "  [16 17]\n",
      "  [18 19]]\n",
      "\n",
      " [[20 21]\n",
      "  [22 23]\n",
      "  [24 25]\n",
      "  [26 27]\n",
      "  [28 29]]]\n"
     ]
    }
   ],
   "source": [
    "b = np.arange(30).reshape(3,5,2)\n",
    "print (b)"
   ]
  },
  {
   "cell_type": "code",
   "execution_count": 43,
   "metadata": {},
   "outputs": [
    {
     "name": "stdout",
     "output_type": "stream",
     "text": [
      "[[ 0  1  2  3  4  5]\n",
      " [ 6  7  8  9 10 11]\n",
      " [12 13 14 15 16 17]\n",
      " [18 19 20 21 22 23]\n",
      " [24 25 26 27 28 29]]\n",
      "[[ True False  True False  True False]\n",
      " [ True False  True False  True False]\n",
      " [ True False  True False  True False]\n",
      " [ True False  True False  True False]\n",
      " [ True False  True False  True False]]\n",
      "[ 0  2  4  6  8 10 12 14 16 18 20 22 24 26 28]\n",
      "[[ 0  1  2  3  4  5]\n",
      " [ 6  0  8  9 10 11]\n",
      " [12 13  0 15 16 17]\n",
      " [18 19 20  0 22 23]\n",
      " [24 25 26 27  0 29]]\n",
      "29\n"
     ]
    }
   ],
   "source": [
    "np_arr = np.arange(30).reshape(5,6)\n",
    "print(np_arr)\n",
    "print(np_arr % 2 == 0 )\n",
    "\n",
    "print(np_arr[np_arr % 2 == 0] )\n",
    "\n",
    "cond = (np_arr % 7 == 0)\n",
    "np_arr[cond]=0\n",
    "print(np_arr)\n",
    "\n",
    "print(np.argmax(np_arr))\n"
   ]
  },
  {
   "cell_type": "code",
   "execution_count": null,
   "metadata": {},
   "outputs": [],
   "source": []
  }
 ],
 "metadata": {
  "kernelspec": {
   "display_name": "Python 3",
   "language": "python",
   "name": "python3"
  },
  "language_info": {
   "codemirror_mode": {
    "name": "ipython",
    "version": 3
   },
   "file_extension": ".py",
   "mimetype": "text/x-python",
   "name": "python",
   "nbconvert_exporter": "python",
   "pygments_lexer": "ipython3",
   "version": "3.6.4"
  }
 },
 "nbformat": 4,
 "nbformat_minor": 2
}
