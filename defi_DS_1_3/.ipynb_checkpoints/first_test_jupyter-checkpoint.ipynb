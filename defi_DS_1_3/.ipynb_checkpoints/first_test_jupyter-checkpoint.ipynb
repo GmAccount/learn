{
 "cells": [
  {
   "cell_type": "code",
   "execution_count": 28,
   "metadata": {},
   "outputs": [
    {
     "name": "stdout",
     "output_type": "stream",
     "text": [
      "OrderedDict([('pays', 'Maroc'), ('capitale', 'Rabat'), ('population', '36000000'), ('area', '4000000')])\n",
      "OrderedDict([('pays', 'Algerie'), ('capitale', 'Algiers'), ('population', '42000000'), ('area', '23000000')])\n",
      "OrderedDict([('pays', 'France'), ('capitale', 'Paris'), ('population', '67000000'), ('area', '8000000')])\n"
     ]
    }
   ],
   "source": [
    "import csv, json\n",
    "import collections\n",
    "\n",
    "global_list_pays = []\n",
    "\n",
    "with open(\"pays.csv\") as pays_csv:\n",
    "  csv_reader = csv.DictReader(pays_csv)\n",
    "  for row in csv_reader:\n",
    "    print (row)\n",
    "    global_list_pays.append(dict(row))\n",
    "    \n"
   ]
  },
  {
   "cell_type": "code",
   "execution_count": 29,
   "metadata": {},
   "outputs": [
    {
     "name": "stdout",
     "output_type": "stream",
     "text": [
      "{'pays': 'Espagne', 'capitale': 'Madrid', 'population': 60000000, 'area': 5000000}\n",
      "{'pays': 'Portugal', 'capitale': 'Lisbon', 'population': 22000000, 'area': 7000000}\n"
     ]
    }
   ],
   "source": [
    "with open(\"pays.json\") as pays_json:\n",
    "  data = json.load(pays_json)\n",
    "  for row in data:\n",
    "        print(row)\n",
    "        global_list_pays.append(dict(row))"
   ]
  },
  {
   "cell_type": "code",
   "execution_count": 30,
   "metadata": {},
   "outputs": [
    {
     "data": {
      "text/plain": [
       "[{'area': '4000000',\n",
       "  'capitale': 'Rabat',\n",
       "  'pays': 'Maroc',\n",
       "  'population': '36000000'},\n",
       " {'area': '23000000',\n",
       "  'capitale': 'Algiers',\n",
       "  'pays': 'Algerie',\n",
       "  'population': '42000000'},\n",
       " {'area': '8000000',\n",
       "  'capitale': 'Paris',\n",
       "  'pays': 'France',\n",
       "  'population': '67000000'},\n",
       " {'area': 5000000,\n",
       "  'capitale': 'Madrid',\n",
       "  'pays': 'Espagne',\n",
       "  'population': 60000000},\n",
       " {'area': 7000000,\n",
       "  'capitale': 'Lisbon',\n",
       "  'pays': 'Portugal',\n",
       "  'population': 22000000}]"
      ]
     },
     "execution_count": 30,
     "metadata": {},
     "output_type": "execute_result"
    }
   ],
   "source": [
    "global_list_pays\n"
   ]
  },
  {
   "cell_type": "code",
   "execution_count": 33,
   "metadata": {},
   "outputs": [],
   "source": [
    "with open(\"pays_global.csv\",\"w\") as global_pays:\n",
    "  writer = csv.writer(global_pays,quoting=csv.QUOTE_NONNUMERIC)\n",
    "  writer.writerow([\"pays\", \"capitale\", \"population\",\"area\"])\n",
    "  for iteam in global_list_pays:\n",
    "      writer.writerow([iteam[\"pays\"], iteam[\"capitale\"], int(iteam[\"population\"]),int(iteam[\"area\"])])\n",
    "                       "
   ]
  },
  {
   "cell_type": "code",
   "execution_count": null,
   "metadata": {},
   "outputs": [],
   "source": []
  },
  {
   "cell_type": "code",
   "execution_count": null,
   "metadata": {},
   "outputs": [],
   "source": []
  }
 ],
 "metadata": {
  "kernelspec": {
   "display_name": "Python 3",
   "language": "python",
   "name": "python3"
  },
  "language_info": {
   "codemirror_mode": {
    "name": "ipython",
    "version": 3
   },
   "file_extension": ".py",
   "mimetype": "text/x-python",
   "name": "python",
   "nbconvert_exporter": "python",
   "pygments_lexer": "ipython3",
   "version": "3.6.4"
  }
 },
 "nbformat": 4,
 "nbformat_minor": 2
}
