{
  "nbformat": 4,
  "nbformat_minor": 0,
  "metadata": {
    "colab": {
      "name": "3.1.0 exercice -  règles simples.ipynb",
      "provenance": []
    },
    "kernelspec": {
      "name": "python3",
      "display_name": "Python 3"
    }
  },
  "cells": [
    {
      "cell_type": "markdown",
      "metadata": {
        "id": "os0Uq2lNr94y",
        "colab_type": "text"
      },
      "source": [
        "Dans un premier temps, on va importer les données. C'est la base des prix immobiliers que vous connaissez déjà.\n"
      ]
    },
    {
      "cell_type": "code",
      "metadata": {
        "id": "fvYN9eAXcYae",
        "colab_type": "code",
        "colab": {}
      },
      "source": [
        "import pandas as pd\n",
        "housing=pd.read_csv(\"https://dataks.bitbucket.io/ml/houses.csv\")"
      ],
      "execution_count": 2,
      "outputs": []
    },
    {
      "cell_type": "markdown",
      "metadata": {
        "id": "YWEIi732y3l4",
        "colab_type": "text"
      },
      "source": [
        "# Approche prix au mètre carré"
      ]
    },
    {
      "cell_type": "markdown",
      "metadata": {
        "id": "feb0SuP1sMJR",
        "colab_type": "text"
      },
      "source": [
        "**Question** : créer une colonne qui s'appelle prixm2 par exemple qui est le prix au mètre carré."
      ]
    },
    {
      "cell_type": "code",
      "metadata": {
        "id": "FXR84UxdsLTw",
        "colab_type": "code",
        "colab": {
          "base_uri": "https://localhost:8080/",
          "height": 204
        },
        "outputId": "d731a5e6-7759-4036-a1cf-a40e53ccd4f5"
      },
      "source": [
        "housing[\"prixm2\"] = (housing[\"price\"] / housing[\"lotsize\"]).astype(\"int\")\n",
        "housing.head()\n"
      ],
      "execution_count": 8,
      "outputs": [
        {
          "output_type": "execute_result",
          "data": {
            "text/html": [
              "<div>\n",
              "<style scoped>\n",
              "    .dataframe tbody tr th:only-of-type {\n",
              "        vertical-align: middle;\n",
              "    }\n",
              "\n",
              "    .dataframe tbody tr th {\n",
              "        vertical-align: top;\n",
              "    }\n",
              "\n",
              "    .dataframe thead th {\n",
              "        text-align: right;\n",
              "    }\n",
              "</style>\n",
              "<table border=\"1\" class=\"dataframe\">\n",
              "  <thead>\n",
              "    <tr style=\"text-align: right;\">\n",
              "      <th></th>\n",
              "      <th>price</th>\n",
              "      <th>lotsize</th>\n",
              "      <th>bedrooms</th>\n",
              "      <th>bathrms</th>\n",
              "      <th>stories</th>\n",
              "      <th>driveway</th>\n",
              "      <th>recroom</th>\n",
              "      <th>fullbase</th>\n",
              "      <th>gashw</th>\n",
              "      <th>airco</th>\n",
              "      <th>garagepl</th>\n",
              "      <th>prefarea</th>\n",
              "      <th>prixm2</th>\n",
              "    </tr>\n",
              "  </thead>\n",
              "  <tbody>\n",
              "    <tr>\n",
              "      <th>0</th>\n",
              "      <td>420000</td>\n",
              "      <td>585</td>\n",
              "      <td>3</td>\n",
              "      <td>1</td>\n",
              "      <td>2</td>\n",
              "      <td>yes</td>\n",
              "      <td>no</td>\n",
              "      <td>yes</td>\n",
              "      <td>no</td>\n",
              "      <td>no</td>\n",
              "      <td>1</td>\n",
              "      <td>no</td>\n",
              "      <td>717</td>\n",
              "    </tr>\n",
              "    <tr>\n",
              "      <th>1</th>\n",
              "      <td>385000</td>\n",
              "      <td>400</td>\n",
              "      <td>2</td>\n",
              "      <td>1</td>\n",
              "      <td>1</td>\n",
              "      <td>yes</td>\n",
              "      <td>no</td>\n",
              "      <td>no</td>\n",
              "      <td>no</td>\n",
              "      <td>no</td>\n",
              "      <td>0</td>\n",
              "      <td>no</td>\n",
              "      <td>962</td>\n",
              "    </tr>\n",
              "    <tr>\n",
              "      <th>2</th>\n",
              "      <td>495000</td>\n",
              "      <td>306</td>\n",
              "      <td>3</td>\n",
              "      <td>1</td>\n",
              "      <td>1</td>\n",
              "      <td>yes</td>\n",
              "      <td>no</td>\n",
              "      <td>no</td>\n",
              "      <td>no</td>\n",
              "      <td>no</td>\n",
              "      <td>0</td>\n",
              "      <td>no</td>\n",
              "      <td>1617</td>\n",
              "    </tr>\n",
              "    <tr>\n",
              "      <th>3</th>\n",
              "      <td>605000</td>\n",
              "      <td>665</td>\n",
              "      <td>3</td>\n",
              "      <td>1</td>\n",
              "      <td>2</td>\n",
              "      <td>yes</td>\n",
              "      <td>yes</td>\n",
              "      <td>no</td>\n",
              "      <td>no</td>\n",
              "      <td>no</td>\n",
              "      <td>0</td>\n",
              "      <td>no</td>\n",
              "      <td>909</td>\n",
              "    </tr>\n",
              "    <tr>\n",
              "      <th>4</th>\n",
              "      <td>610000</td>\n",
              "      <td>636</td>\n",
              "      <td>2</td>\n",
              "      <td>1</td>\n",
              "      <td>1</td>\n",
              "      <td>yes</td>\n",
              "      <td>no</td>\n",
              "      <td>no</td>\n",
              "      <td>no</td>\n",
              "      <td>no</td>\n",
              "      <td>0</td>\n",
              "      <td>no</td>\n",
              "      <td>959</td>\n",
              "    </tr>\n",
              "  </tbody>\n",
              "</table>\n",
              "</div>"
            ],
            "text/plain": [
              "    price  lotsize  bedrooms  bathrms  ...  airco garagepl prefarea prixm2\n",
              "0  420000      585         3        1  ...     no        1       no    717\n",
              "1  385000      400         2        1  ...     no        0       no    962\n",
              "2  495000      306         3        1  ...     no        0       no   1617\n",
              "3  605000      665         3        1  ...     no        0       no    909\n",
              "4  610000      636         2        1  ...     no        0       no    959\n",
              "\n",
              "[5 rows x 13 columns]"
            ]
          },
          "metadata": {
            "tags": []
          },
          "execution_count": 8
        }
      ]
    },
    {
      "cell_type": "markdown",
      "metadata": {
        "id": "S8S1rf8Rsekc",
        "colab_type": "text"
      },
      "source": [
        "**Question**: visualiser le prix au mètre carré en fonction de la surface (ici `lotsize`)."
      ]
    },
    {
      "cell_type": "code",
      "metadata": {
        "id": "5S3XCQ6ism9-",
        "colab_type": "code",
        "colab": {
          "base_uri": "https://localhost:8080/",
          "height": 386
        },
        "outputId": "6037333f-27a6-41f6-99d4-b700ef7ce43d"
      },
      "source": [
        "import seaborn as sns\n",
        "\n",
        "sns.relplot(x=\"lotsize\",y=\"prixm2\", data= housing)\n"
      ],
      "execution_count": 13,
      "outputs": [
        {
          "output_type": "execute_result",
          "data": {
            "text/plain": [
              "<seaborn.axisgrid.FacetGrid at 0x7f263e334f60>"
            ]
          },
          "metadata": {
            "tags": []
          },
          "execution_count": 13
        },
        {
          "output_type": "display_data",
          "data": {
            "image/png": "[encoded data removed]",
            "text/plain": [
              "<Figure size 360x360 with 1 Axes>"
            ]
          },
          "metadata": {
            "tags": [],
            "needs_background": "light"
          }
        }
      ]
    },
    {
      "cell_type": "markdown",
      "metadata": {
        "id": "lXSQh1nJsnYK",
        "colab_type": "text"
      },
      "source": [
        "**Question**: calculer en fonction du prix au mètre carré précédent, le prix d'une maison de 400 mètres carrés"
      ]
    },
    {
      "cell_type": "code",
      "metadata": {
        "id": "OBUr9i03s17P",
        "colab_type": "code",
        "colab": {
          "base_uri": "https://localhost:8080/",
          "height": 314
        },
        "outputId": "c31ad72e-a3d1-4043-fb91-860c599a4577"
      },
      "source": [
        "housing = housing[housing[\"lotsize\"] == 400]\n",
        "print(housing[\"prixm2\"].mean())\n",
        "housing.describe()"
      ],
      "execution_count": 20,
      "outputs": [
        {
          "output_type": "stream",
          "text": [
            "1442.7272727272727\n"
          ],
          "name": "stdout"
        },
        {
          "output_type": "execute_result",
          "data": {
            "text/html": [
              "<div>\n",
              "<style scoped>\n",
              "    .dataframe tbody tr th:only-of-type {\n",
              "        vertical-align: middle;\n",
              "    }\n",
              "\n",
              "    .dataframe tbody tr th {\n",
              "        vertical-align: top;\n",
              "    }\n",
              "\n",
              "    .dataframe thead th {\n",
              "        text-align: right;\n",
              "    }\n",
              "</style>\n",
              "<table border=\"1\" class=\"dataframe\">\n",
              "  <thead>\n",
              "    <tr style=\"text-align: right;\">\n",
              "      <th></th>\n",
              "      <th>price</th>\n",
              "      <th>lotsize</th>\n",
              "      <th>bedrooms</th>\n",
              "      <th>bathrms</th>\n",
              "      <th>stories</th>\n",
              "      <th>garagepl</th>\n",
              "      <th>prixm2</th>\n",
              "    </tr>\n",
              "  </thead>\n",
              "  <tbody>\n",
              "    <tr>\n",
              "      <th>count</th>\n",
              "      <td>11.000000</td>\n",
              "      <td>11.0</td>\n",
              "      <td>11.000000</td>\n",
              "      <td>11.000000</td>\n",
              "      <td>11.000000</td>\n",
              "      <td>11.000000</td>\n",
              "      <td>11.000000</td>\n",
              "    </tr>\n",
              "    <tr>\n",
              "      <th>mean</th>\n",
              "      <td>577181.818182</td>\n",
              "      <td>400.0</td>\n",
              "      <td>2.818182</td>\n",
              "      <td>1.272727</td>\n",
              "      <td>1.636364</td>\n",
              "      <td>0.454545</td>\n",
              "      <td>1442.727273</td>\n",
              "    </tr>\n",
              "    <tr>\n",
              "      <th>std</th>\n",
              "      <td>214875.228066</td>\n",
              "      <td>0.0</td>\n",
              "      <td>0.603023</td>\n",
              "      <td>0.467099</td>\n",
              "      <td>0.504525</td>\n",
              "      <td>0.687552</td>\n",
              "      <td>537.189741</td>\n",
              "    </tr>\n",
              "    <tr>\n",
              "      <th>min</th>\n",
              "      <td>379000.000000</td>\n",
              "      <td>400.0</td>\n",
              "      <td>2.000000</td>\n",
              "      <td>1.000000</td>\n",
              "      <td>1.000000</td>\n",
              "      <td>0.000000</td>\n",
              "      <td>947.000000</td>\n",
              "    </tr>\n",
              "    <tr>\n",
              "      <th>25%</th>\n",
              "      <td>387500.000000</td>\n",
              "      <td>400.0</td>\n",
              "      <td>2.500000</td>\n",
              "      <td>1.000000</td>\n",
              "      <td>1.000000</td>\n",
              "      <td>0.000000</td>\n",
              "      <td>968.500000</td>\n",
              "    </tr>\n",
              "    <tr>\n",
              "      <th>50%</th>\n",
              "      <td>515000.000000</td>\n",
              "      <td>400.0</td>\n",
              "      <td>3.000000</td>\n",
              "      <td>1.000000</td>\n",
              "      <td>2.000000</td>\n",
              "      <td>0.000000</td>\n",
              "      <td>1287.000000</td>\n",
              "    </tr>\n",
              "    <tr>\n",
              "      <th>75%</th>\n",
              "      <td>647500.000000</td>\n",
              "      <td>400.0</td>\n",
              "      <td>3.000000</td>\n",
              "      <td>1.500000</td>\n",
              "      <td>2.000000</td>\n",
              "      <td>1.000000</td>\n",
              "      <td>1618.500000</td>\n",
              "    </tr>\n",
              "    <tr>\n",
              "      <th>max</th>\n",
              "      <td>970000.000000</td>\n",
              "      <td>400.0</td>\n",
              "      <td>4.000000</td>\n",
              "      <td>2.000000</td>\n",
              "      <td>2.000000</td>\n",
              "      <td>2.000000</td>\n",
              "      <td>2425.000000</td>\n",
              "    </tr>\n",
              "  </tbody>\n",
              "</table>\n",
              "</div>"
            ],
            "text/plain": [
              "               price  lotsize   bedrooms  ...    stories   garagepl       prixm2\n",
              "count      11.000000     11.0  11.000000  ...  11.000000  11.000000    11.000000\n",
              "mean   577181.818182    400.0   2.818182  ...   1.636364   0.454545  1442.727273\n",
              "std    214875.228066      0.0   0.603023  ...   0.504525   0.687552   537.189741\n",
              "min    379000.000000    400.0   2.000000  ...   1.000000   0.000000   947.000000\n",
              "25%    387500.000000    400.0   2.500000  ...   1.000000   0.000000   968.500000\n",
              "50%    515000.000000    400.0   3.000000  ...   2.000000   0.000000  1287.000000\n",
              "75%    647500.000000    400.0   3.000000  ...   2.000000   1.000000  1618.500000\n",
              "max    970000.000000    400.0   4.000000  ...   2.000000   2.000000  2425.000000\n",
              "\n",
              "[8 rows x 7 columns]"
            ]
          },
          "metadata": {
            "tags": []
          },
          "execution_count": 20
        }
      ]
    },
    {
      "cell_type": "markdown",
      "metadata": {
        "id": "HtFJnmiMp0bh",
        "colab_type": "text"
      },
      "source": [
        "if we took a mean ...will be 1442"
      ]
    },
    {
      "cell_type": "markdown",
      "metadata": {
        "id": "6r_cKqZYzJBk",
        "colab_type": "text"
      },
      "source": [
        "# Approche \"voisins\""
      ]
    },
    {
      "cell_type": "markdown",
      "metadata": {
        "id": "iQgw5hN_zMZc",
        "colab_type": "text"
      },
      "source": [
        "Trouver les maisons qui ont une surface de 400 mètres carrés, et faire la moyenne de leurs prix."
      ]
    },
    {
      "cell_type": "code",
      "metadata": {
        "id": "lzkwUN0szLYw",
        "colab_type": "code",
        "colab": {
          "base_uri": "https://localhost:8080/",
          "height": 34
        },
        "outputId": "04715562-bc78-4cf5-b902-0b1326bf7d08"
      },
      "source": [
        "print(housing[\"prixm2\"].mean())\n"
      ],
      "execution_count": 21,
      "outputs": [
        {
          "output_type": "stream",
          "text": [
            "1442.7272727272727\n"
          ],
          "name": "stdout"
        }
      ]
    }
  ]
}