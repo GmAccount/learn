{
  "nbformat": 4,
  "nbformat_minor": 0,
  "metadata": {
    "colab": {
      "name": "3.1 exercice - régression simple.ipynb",
      "provenance": []
    },
    "kernelspec": {
      "name": "python3",
      "display_name": "Python 3"
    }
  },
  "cells": [
    {
      "cell_type": "markdown",
      "metadata": {
        "id": "os0Uq2lNr94y",
        "colab_type": "text"
      },
      "source": [
        "Dans un premier temps, on va importer les données. C'est la base des prix immobiliers que vous connaissez déjà.\n"
      ]
    },
    {
      "cell_type": "code",
      "metadata": {
        "id": "fvYN9eAXcYae",
        "colab_type": "code",
        "colab": {}
      },
      "source": [
        "import pandas as pd\n",
        "housing=pd.read_csv(\"https://dataks.bitbucket.io/ml/houses.csv\")"
      ],
      "execution_count": 2,
      "outputs": []
    },
    {
      "cell_type": "markdown",
      "metadata": {
        "id": "RCBRztIssET4",
        "colab_type": "text"
      },
      "source": [
        "Dans un premier temps, vous pouvez refaire une exploration des données pour s'assurer que la base n'a changé."
      ]
    },
    {
      "cell_type": "code",
      "metadata": {
        "id": "TWJbK2eltKBu",
        "colab_type": "code",
        "colab": {
          "base_uri": "https://localhost:8080/",
          "height": 493
        },
        "outputId": "c9a39cd3-ffe1-4541-9ee5-611b1428b1d5"
      },
      "source": [
        "print(housing.head())\n",
        "print(housing.info())\n",
        "#print(\"------------\")\n",
        "#print(housing[\"price\"].dtypes)"
      ],
      "execution_count": 10,
      "outputs": [
        {
          "output_type": "stream",
          "text": [
            "    price  lotsize  bedrooms  bathrms  ...  gashw airco garagepl prefarea\n",
            "0  420000      585         3        1  ...     no    no        1       no\n",
            "1  385000      400         2        1  ...     no    no        0       no\n",
            "2  495000      306         3        1  ...     no    no        0       no\n",
            "3  605000      665         3        1  ...     no    no        0       no\n",
            "4  610000      636         2        1  ...     no    no        0       no\n",
            "\n",
            "[5 rows x 12 columns]\n",
            "<class 'pandas.core.frame.DataFrame'>\n",
            "RangeIndex: 546 entries, 0 to 545\n",
            "Data columns (total 12 columns):\n",
            " #   Column    Non-Null Count  Dtype \n",
            "---  ------    --------------  ----- \n",
            " 0   price     546 non-null    int64 \n",
            " 1   lotsize   546 non-null    int64 \n",
            " 2   bedrooms  546 non-null    int64 \n",
            " 3   bathrms   546 non-null    int64 \n",
            " 4   stories   546 non-null    int64 \n",
            " 5   driveway  546 non-null    object\n",
            " 6   recroom   546 non-null    object\n",
            " 7   fullbase  546 non-null    object\n",
            " 8   gashw     546 non-null    object\n",
            " 9   airco     546 non-null    object\n",
            " 10  garagepl  546 non-null    int64 \n",
            " 11  prefarea  546 non-null    object\n",
            "dtypes: int64(6), object(6)\n",
            "memory usage: 51.3+ KB\n",
            "None\n"
          ],
          "name": "stdout"
        }
      ]
    },
    {
      "cell_type": "markdown",
      "metadata": {
        "id": "C1ozYlCssU_o",
        "colab_type": "text"
      },
      "source": [
        "*Essayez de ne pas faire du copier-coller et faire l'exercice vous-même devant ce notebook.*\n"
      ]
    },
    {
      "cell_type": "markdown",
      "metadata": {
        "id": "feb0SuP1sMJR",
        "colab_type": "text"
      },
      "source": [
        "**Question** : créer un modèle linéaire simple, pour prédire le prix en fonction du nombre de chambres"
      ]
    },
    {
      "cell_type": "code",
      "metadata": {
        "id": "FXR84UxdsLTw",
        "colab_type": "code",
        "colab": {
          "base_uri": "https://localhost:8080/",
          "height": 34
        },
        "outputId": "d96c5a01-a81c-4cf4-9500-c73e446411d1"
      },
      "source": [
        "# importer le package qui contient le modèle linéaire\n",
        "from sklearn.linear_model import LinearRegression\n",
        "# créer le modèle\n",
        "###print(dir(linear_model))\n",
        "model = LinearRegression()\n",
        "\n",
        "X = housing[[\"bathrms\"]]\n",
        "y = housing[[\"price\"]]\n",
        "\n",
        "#print(type(housing[[\"price\"]]))\n",
        "\n",
        "# entraîner le modèle\n",
        "model.fit(X,y)"
      ],
      "execution_count": 30,
      "outputs": [
        {
          "output_type": "execute_result",
          "data": {
            "text/plain": [
              "LinearRegression(copy_X=True, fit_intercept=True, n_jobs=None, normalize=False)"
            ]
          },
          "metadata": {
            "tags": []
          },
          "execution_count": 30
        }
      ]
    },
    {
      "cell_type": "markdown",
      "metadata": {
        "id": "S8S1rf8Rsekc",
        "colab_type": "text"
      },
      "source": [
        "**Question**: visualiser la droite qui représente le modèle, sur un graphique de type nuage de points (prix en fonction du nombre de chambres)."
      ]
    },
    {
      "cell_type": "code",
      "metadata": {
        "id": "5S3XCQ6ism9-",
        "colab_type": "code",
        "colab": {
          "base_uri": "https://localhost:8080/",
          "height": 290
        },
        "outputId": "7b54955e-1ba7-432d-b135-af6f7b1d5fd7"
      },
      "source": [
        "# importer le package qui permet de créer le graphique\n",
        "import matplotlib.pyplot as plt\n",
        "\n",
        "plt.scatter(X, y) # nuage de points\n",
        "plt.plot(X, model.predict(X), color = \"green\")\n",
        "plt.xlabel('bedrooms')\n",
        "plt.ylabel('price')\n",
        "plt.show()\n"
      ],
      "execution_count": 37,
      "outputs": [
        {
          "output_type": "display_data",
          "data": {
            "image/png": "[encoded data removed]",
            "text/plain": [
              "<Figure size 432x288 with 1 Axes>"
            ]
          },
          "metadata": {
            "tags": [],
            "needs_background": "light"
          }
        }
      ]
    },
    {
      "cell_type": "markdown",
      "metadata": {
        "id": "lXSQh1nJsnYK",
        "colab_type": "text"
      },
      "source": [
        "**Question**: examiner les paramètres du modèle. Pour vérifier si vous avez trouvé les bonnes réponses, vous pouvez faire le quiz."
      ]
    },
    {
      "cell_type": "code",
      "metadata": {
        "id": "OBUr9i03s17P",
        "colab_type": "code",
        "colab": {
          "base_uri": "https://localhost:8080/",
          "height": 71
        },
        "outputId": "db44a7f4-2bce-4d8d-a229-d981e94d725d"
      },
      "source": [
        "# afficher les attributs du modèle\n",
        "print(dir(model))\n",
        "\n",
        "model.predict([[5]])"
      ],
      "execution_count": 40,
      "outputs": [
        {
          "output_type": "stream",
          "text": [
            "['__abstractmethods__', '__class__', '__delattr__', '__dict__', '__dir__', '__doc__', '__eq__', '__format__', '__ge__', '__getattribute__', '__getstate__', '__gt__', '__hash__', '__init__', '__init_subclass__', '__le__', '__lt__', '__module__', '__ne__', '__new__', '__reduce__', '__reduce_ex__', '__repr__', '__setattr__', '__setstate__', '__sizeof__', '__str__', '__subclasshook__', '__weakref__', '_abc_cache', '_abc_negative_cache', '_abc_negative_cache_version', '_abc_registry', '_decision_function', '_estimator_type', '_get_param_names', '_get_tags', '_more_tags', '_preprocess_data', '_residues', '_set_intercept', 'coef_', 'copy_X', 'fit', 'fit_intercept', 'get_params', 'intercept_', 'n_jobs', 'normalize', 'predict', 'rank_', 'score', 'set_params', 'singular_']\n"
          ],
          "name": "stdout"
        },
        {
          "output_type": "execute_result",
          "data": {
            "text/plain": [
              "array([[1701789.71586972]])"
            ]
          },
          "metadata": {
            "tags": []
          },
          "execution_count": 40
        }
      ]
    }
  ]
}